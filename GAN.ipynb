{
 "cells": [
  {
   "cell_type": "code",
   "execution_count": 1,
   "source": [
    "import numpy as np\n",
    "from GAN import GAN\n",
    "\n",
    "from prepare_data import prepare_data\n",
    "\n",
    "print(\"Reading data....\")\n",
    "trainX_data, trainY_data, testX_data, testY_data = prepare_data()\n",
    "print(\"Data read!\")\n",
    "\n",
    "epochs = 30\n",
    "eta = 10**-4\n",
    "\n",
    "\n",
    "g = GAN(eta, trainX_data, trainY_data, testX_data, testY_data, 50, epochs)\n",
    "g.train_model()\n"
   ],
   "outputs": [
    {
     "output_type": "stream",
     "name": "stdout",
     "text": [
      "Reading data....\n",
      "Data read!\n"
     ]
    }
   ],
   "metadata": {}
  }
 ],
 "metadata": {
  "orig_nbformat": 4,
  "language_info": {
   "name": "python",
   "version": "3.8.10",
   "mimetype": "text/x-python",
   "codemirror_mode": {
    "name": "ipython",
    "version": 3
   },
   "pygments_lexer": "ipython3",
   "nbconvert_exporter": "python",
   "file_extension": ".py"
  },
  "kernelspec": {
   "name": "python3",
   "display_name": "Python 3.8.10 64-bit"
  },
  "interpreter": {
   "hash": "66429080fe6e005645f00eafccf01387092850ac8335add06917efee973059af"
  }
 },
 "nbformat": 4,
 "nbformat_minor": 2
}