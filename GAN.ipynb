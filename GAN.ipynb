{
 "cells": [
  {
   "cell_type": "code",
   "execution_count": 16,
   "source": [
    "import numpy as np\n",
    "from pprint import pprint as print\n",
    "from matplotlib import pyplot as plt\n",
    "\n",
    "def unpickle(file):\n",
    "    import pickle\n",
    "    with open(file, 'rb') as fo:\n",
    "        dict = pickle.load(fo, encoding='bytes')\n",
    "    return dict\n",
    "\n",
    "\n",
    "data1 = unpickle(\"cifar-10-batches-py/data_batch_1\")\n",
    "data2 = unpickle(\"cifar-10-batches-py/data_batch_2\")\n",
    "data3 = unpickle(\"cifar-10-batches-py/data_batch_3\")\n",
    "data4 = unpickle(\"cifar-10-batches-py/data_batch_4\")\n",
    "data5 = unpickle(\"cifar-10-batches-py/data_batch_5\")\n",
    "data = [data1, data2, data3, data4, data5]\n",
    "\n",
    "test = unpickle(\"./cifar-10-batches-py/test_batch\")\n",
    "\n",
    "train_x = [np.array(x[b'data']) for x in data]\n",
    "train_y = [np.array(x[b'labels']) for x in data]\n",
    "\n",
    "\n",
    "print(np.max(train_y[0]))\n"
   ],
   "outputs": [
    {
     "output_type": "stream",
     "name": "stdout",
     "text": [
      "9\n"
     ]
    }
   ],
   "metadata": {}
  }
 ],
 "metadata": {
  "orig_nbformat": 4,
  "language_info": {
   "name": "python",
   "version": "3.8.10",
   "mimetype": "text/x-python",
   "codemirror_mode": {
    "name": "ipython",
    "version": 3
   },
   "pygments_lexer": "ipython3",
   "nbconvert_exporter": "python",
   "file_extension": ".py"
  },
  "kernelspec": {
   "name": "python3",
   "display_name": "Python 3.8.10 64-bit"
  },
  "interpreter": {
   "hash": "66429080fe6e005645f00eafccf01387092850ac8335add06917efee973059af"
  }
 },
 "nbformat": 4,
 "nbformat_minor": 2
}