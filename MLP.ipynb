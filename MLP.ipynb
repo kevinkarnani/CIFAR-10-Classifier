{
 "cells": [
  {
   "cell_type": "code",
   "execution_count": 1,
   "metadata": {},
   "outputs": [],
   "source": [
    "from NeuralNetwork import NeuralNetwork\n",
    "import prepare_data"
   ]
  },
  {
   "cell_type": "code",
   "execution_count": 2,
   "metadata": {},
   "outputs": [
    {
     "name": "stderr",
     "output_type": "stream",
     "text": [
      "100%|████████████████████████████████████████████████████████████████████████████| 4000/4000 [2:14:44<00:00,  2.02s/it]"
     ]
    },
    {
     "name": "stdout",
     "output_type": "stream",
     "text": [
      "Train Accuracy: 76.934%\n",
      "Validation Accuracy: 35.96%\n"
     ]
    },
    {
     "name": "stderr",
     "output_type": "stream",
     "text": [
      "\n"
     ]
    }
   ],
   "source": [
    "trainX, trainY, testX, testY = prepare_data.prepare_data()\n",
    "mlp = NeuralNetwork(trainX, trainY, testX, testY, eta=10**-3, epochs=4000)\n",
    "\n",
    "mlp.create_architecture(f\"Input, FullyConnected {trainX.shape[1]} 100, Sigmoid, FullyConnected 100 50, Sigmoid,\" \n",
    "                            f\"FullyConnected 50 10, Sigmoid, LogLoss\")\n",
    "\n",
    "mlp.train()\n",
    "mlp.calculate_Accuracies()"
   ]
  }
 ],
 "metadata": {
  "kernelspec": {
   "display_name": "Python 3",
   "language": "python",
   "name": "python3"
  },
  "language_info": {
   "codemirror_mode": {
    "name": "ipython",
    "version": 3
   },
   "file_extension": ".py",
   "mimetype": "text/x-python",
   "name": "python",
   "nbconvert_exporter": "python",
   "pygments_lexer": "ipython3",
   "version": "3.8.5"
  }
 },
 "nbformat": 4,
 "nbformat_minor": 4
}
