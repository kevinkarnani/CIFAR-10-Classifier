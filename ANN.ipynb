{
 "cells": [
  {
   "cell_type": "code",
   "execution_count": 1,
   "metadata": {},
   "outputs": [],
   "source": [
    "from NeuralNetwork import NeuralNetwork\n",
    "import prepare_data"
   ]
  },
  {
   "cell_type": "code",
   "execution_count": 2,
   "metadata": {},
   "outputs": [
    {
     "name": "stderr",
     "output_type": "stream",
     "text": [
      "100%|██████████████████████████████████████████████████████████████████████████████| 2000/2000 [54:56<00:00,  1.65s/it]\n"
     ]
    },
    {
     "name": "stdout",
     "output_type": "stream",
     "text": [
      "Train Accuracy: 68.194%\n",
      "Validation Accuracy: 38.48%\n"
     ]
    }
   ],
   "source": [
    "trainX, trainY, testX, testY = prepare_data.prepare_data()\n",
    "ann = NeuralNetwork(trainX, trainY, testX, testY, 10**-2, 2000)\n",
    "ann.create_architecture(f\"Input, FullyConnected {trainX.shape[1]} 50, Sigmoid, FullyConnected 50 10, Sigmoid, LogLoss\")\n",
    "ann.train()\n",
    "ann.calculate_Accuracies()"
   ]
  }
 ],
 "metadata": {
  "kernelspec": {
   "display_name": "Python 3",
   "language": "python",
   "name": "python3"
  },
  "language_info": {
   "codemirror_mode": {
    "name": "ipython",
    "version": 3
   },
   "file_extension": ".py",
   "mimetype": "text/x-python",
   "name": "python",
   "nbconvert_exporter": "python",
   "pygments_lexer": "ipython3",
   "version": "3.8.5"
  }
 },
 "nbformat": 4,
 "nbformat_minor": 4
}
